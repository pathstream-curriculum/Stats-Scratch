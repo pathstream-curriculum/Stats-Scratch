{
 "cells": [
  {
   "cell_type": "code",
   "execution_count": null,
   "metadata": {},
   "outputs": [],
   "source": [
    "# Import the pandas library for reading and manipulating your data\n",
    "# Anywhere you see \"pd\" in this notebook it's a reference to the pandas library\n",
    "import pandas as pd\n",
    "# Extra step to ensure that pandas plays nice with matplotlib\n",
    "pd.plotting.register_matplotlib_converters()\n",
    "# Import the numpy library for running calculations on your data\n",
    "# Anywhere you see \"np\" in this notebook it's a reference to the numpy library\n",
    "import numpy as np\n",
    "# Import some components of the matplotlib library for plotting your data\n",
    "# Anywhere you see \"plt\" or \"mpimg\" in this notebook it's a reference to the \"pyplot\" and \"image\" packages from matplotlib\n",
    "import matplotlib.pyplot as plt\n",
    "import matplotlib.image as mpimg\n",
    "# Import seaborn library for making your plots pretty!\n",
    "# Anywhere you see \"sns\" in this notebook it's a reference to the seaborn library\n",
    "import seaborn as sns\n",
    "# Set some default plotting parameters using seaborn\n",
    "sns.set()"
   ]
  },
  {
   "cell_type": "code",
   "execution_count": null,
   "metadata": {
    "scrolled": true
   },
   "outputs": [],
   "source": [
    "# Store file name as string\n",
    "csv_string_2016 = \"Parking_Violations_Issued_-_Fiscal_Year_2016.csv\"\n",
    "csv_string_2017 = \"Parking_Violations_Issued_-_Fiscal_Year_2017.csv\"\n",
    "\n",
    "# Convert full dataset csvs to dataframes\n",
    "df_16 = pd.read_csv(csv_string_2016)\n",
    "df_17 = pd.read_csv(csv_string_2017)\n",
    "\n"
   ]
  },
  {
   "cell_type": "code",
   "execution_count": null,
   "metadata": {},
   "outputs": [],
   "source": [
    "# Concatenate the 2016 and 2017 data\n",
    "df = pd.concat([df_16, df_17], ignore_index=True)"
   ]
  },
  {
   "cell_type": "code",
   "execution_count": null,
   "metadata": {},
   "outputs": [],
   "source": [
    "# Identify columns from the dataset that we are interested in keeping\n",
    "cols_to_keep = ['Plate ID',\n",
    "                'Registration State',\n",
    "                'Plate Type',\n",
    "                'Issue Date',\n",
    "                'Violation Code',\n",
    "                'Vehicle Body Type',\n",
    "                'Vehicle Make',\n",
    "                'Vehicle Color',\n",
    "                'Violation Time',\n",
    "                'Violation County',\n",
    "                'Vehicle Year']\n",
    "# Remove the unnecessary columns\n",
    "cols_to_remove = [col for col in df.columns if col not in cols_to_keep]\n",
    "df = df.drop(columns = cols_to_remove)\n",
    "\n",
    "# Rename the columns to have underscores instead of spaces for easier access\n",
    "cols_to_keep_rename = {}\n",
    "for col in cols_to_keep:\n",
    "    renamed = col.replace(\" \", \"_\").lower()\n",
    "    cols_to_keep_rename[col] = renamed\n",
    "df = df.rename(columns = cols_to_keep_rename)"
   ]
  },
  {
   "cell_type": "code",
   "execution_count": null,
   "metadata": {},
   "outputs": [],
   "source": [
    "# Filter data by matching values in each column\n",
    "\n",
    "# Store the codes for color, county, body, make, and violation to ease data cleaning\n",
    "color_codes = ['BK', 'BL', 'BR', 'GL', 'GY',\n",
    "               'MR', 'OR', 'PK', 'PR', 'RD',\n",
    "               'TN', 'WH', 'YW','BLACK', 'BLUE', \n",
    "               'GREY', 'GREEN', 'RED', \n",
    "               'WHITE', 'YELLOW', 'SILVE', 'BROWN', 'GOLD', 'PINK']\n",
    "\n",
    "county_codes = [\"BX\", \"K\", \"NY\", \"Q\", \"R\"]\n",
    "\n",
    "body_codes_to_keep = ['CONV', 'SUBN', '4DSD',\n",
    "              '2DSD', 'PICK', 'VAN']\n",
    "\n",
    "vehicle_makes_to_keep  = ['ACURA', 'AUDI', 'BMW', 'BUICK', 'CADIL',\n",
    "                          'CHEVR', 'CHRYS', 'DODGE', 'FIAT', 'FORD',\n",
    "                          'GMC', 'HONDA', 'HUMME', 'HYUND', 'INFIN',\n",
    "                          'ISUZU', 'JAGUA', 'JEEP', 'KIA', 'LEXUS',\n",
    "                          'LINCO', 'MASSA', 'MAZDA', 'ME/BE', 'MERCU',\n",
    "                          'MINI', 'MITSU', 'NISSA', 'OLDSM', 'PLYMO',\n",
    "                          'PONTI', 'PORSC', 'ROVER', 'SAAB', 'SATUR',\n",
    "                          'SMART', 'SUBAR', 'SUZUK', 'TESLA', 'TOYOT',\n",
    "                          'VOLKS', 'VOLVO']\n",
    "\n",
    "violation_codes_to_keep = [20, 21, 37, 38, 40]\n",
    "\n",
    "# Apply filters\n",
    "print(f'{len(df)} rows before filtering')\n",
    "# Clean data by filtering out rows that do not conform to lists above\n",
    "df = df[df.vehicle_color.isin(color_codes)]\n",
    "print(f'{len(df)} rows after color filtering')\n",
    "df = df[df.vehicle_body_type.isin(body_codes_to_keep)]\n",
    "print(f'{len(df)} rows after body type filtering')\n",
    "df = df[df.violation_code.isin(violation_codes_to_keep)]\n",
    "print(f'{len(df)} rows after violation code filtering')\n",
    "df = df[df.vehicle_make.isin(vehicle_makes_to_keep)]\n",
    "print(f'{len(df)} rows after vehicle make filtering')\n",
    "df = df[df.violation_county.isin(county_codes)]\n",
    "print(f'{len(df)} rows after county code filtering')\n",
    "df = df[df.plate_type == 'PAS']\n",
    "print(f'{len(df)} rows after plate type filtering')\n",
    "df = df[df.vehicle_year != 0]\n",
    "df = df[df.vehicle_year <= 2017]\n",
    "print(f'{len(df)} rows after vehicle year filtering')\n",
    "df = df[df.issue_date.astype(str).str.contains(\"2016\")]\n",
    "print(f'{len(df)} rows after restricting to 2016')\n"
   ]
  },
  {
   "cell_type": "code",
   "execution_count": null,
   "metadata": {},
   "outputs": [],
   "source": [
    "# Convert time to proper format for to_datetime\n",
    "df['violation_time'] = df['violation_time'].apply(\\\n",
    "             lambda x: \"12\"+x[2:]+\"M\" if x[:2] == \"00\" else x+\"M\")\n",
    "# Combine columns into new timestamp column\n",
    "df['timestamp'] = (df.issue_date.astype(str) + \\\n",
    "                            \" \" + df.violation_time.astype(str))\n",
    "\n",
    "# Convert timestamp col into datetime\n",
    "df['timestamp'] = pd.to_datetime(df['timestamp'], \\\n",
    "                             errors = 'coerce', format = \"%m/%d/%Y %I%M%p\")\n",
    "\n",
    "# Drop NaT rows that were unable to convert to datetime\n",
    "df.dropna(inplace=True)\n",
    "# Drop any duplicate rows\n",
    "df.drop_duplicates(keep=False,inplace=True)\n",
    "# Sort by timestamp\n",
    "df.sort_values(by=['timestamp'], inplace=True)\n",
    "# Set timestamp as index to get rid of goofy index values\n",
    "df = df.set_index('timestamp')\n"
   ]
  },
  {
   "cell_type": "code",
   "execution_count": null,
   "metadata": {},
   "outputs": [],
   "source": [
    "# Create color map for values to change and values to keep the same (annoyingly have to map all)\n",
    "color_map = {'BK':'BLACK', 'BL':'BLUE', 'BR':'BROWN', 'GL':'GOLD', 'GY':'GRAY',\n",
    "            'MR':'MAROON', 'OR':'ORANGE', 'PK':'PINK', 'PR':'PURPLE', 'RD':'RED',\n",
    "            'TN':'TAN', 'WH':'WHITE', 'YW':'YELLOW',\n",
    "            'GREY':'GRAY', 'SILVE':'SILVER', 'BLACK':'BLACK', 'BLUE':'BLUE', 'BROWN':'BROWN', \n",
    "            'GOLD':'GOLD', 'GRAY':'GRAY',\n",
    "            'MAROON':'MAROON', 'ORANGE':'ORANGE', 'PINK':'PINK', 'PURPLE':'PURPLE', 'RED':'RED',\n",
    "            'TAN':'TAN', 'WHITE':'WHITE', 'YELLOW':'YELLOW',\n",
    "            'GRAY':'GRAY', 'SILVER':'SILVER'}\n",
    "df.vehicle_color = df.vehicle_color.map(color_map)\n",
    "# Map county and violation code as well\n",
    "county_map = {'K':'Brooklyn', 'Q':'Queens', 'NY':'Manhattan', 'BX':'Bronx', 'R':'Staten Island'}\n",
    "df.violation_county = df.violation_county.map(county_map)\n",
    "violation_codes_map = {20:'NO PARKING ZONE', 21:'STREET CLEANING', 37:'NO METER RECEIPT', \n",
    "                       38:'EXPIRED METER', 40:'FIRE HYDRANT'}\n",
    "df.violation_code = df.violation_code.map(violation_codes_map)"
   ]
  },
  {
   "cell_type": "code",
   "execution_count": null,
   "metadata": {},
   "outputs": [],
   "source": [
    "# Verify that things appear to have worked as intended, i.e. sorting, mapping and timestamp conversion\n",
    "df.head(100)"
   ]
  },
  {
   "cell_type": "code",
   "execution_count": null,
   "metadata": {},
   "outputs": [],
   "source": [
    "df.tail(100)"
   ]
  },
  {
   "cell_type": "code",
   "execution_count": null,
   "metadata": {},
   "outputs": [],
   "source": [
    "# If timestamp conversion appears successful, drop the unneeded violation_time and issue_date columns\n",
    "# (also drop plate type as no longer needed)\n",
    "df.drop(columns = ['violation_time', 'issue_date', 'plate_type'], inplace=True)\n",
    "# Rename county to borough\n",
    "df = df.rename(columns = {'violation_county':'borough'})\n",
    "# Convert vehicle year to int\n",
    "df.vehicle_year = df.vehicle_year.astype(int)"
   ]
  },
  {
   "cell_type": "code",
   "execution_count": null,
   "metadata": {},
   "outputs": [],
   "source": [
    "# Save final df to a new CSV\n",
    "df.to_csv('cleaned_and_filtered_data_full.csv')"
   ]
  },
  {
   "cell_type": "code",
   "execution_count": null,
   "metadata": {},
   "outputs": [],
   "source": [
    "df.head()"
   ]
  },
  {
   "cell_type": "code",
   "execution_count": null,
   "metadata": {},
   "outputs": [],
   "source": []
  }
 ],
 "metadata": {
  "kernelspec": {
   "display_name": "Python 3",
   "language": "python",
   "name": "python3"
  },
  "language_info": {
   "codemirror_mode": {
    "name": "ipython",
    "version": 3
   },
   "file_extension": ".py",
   "mimetype": "text/x-python",
   "name": "python",
   "nbconvert_exporter": "python",
   "pygments_lexer": "ipython3",
   "version": "3.7.3"
  }
 },
 "nbformat": 4,
 "nbformat_minor": 2
}
